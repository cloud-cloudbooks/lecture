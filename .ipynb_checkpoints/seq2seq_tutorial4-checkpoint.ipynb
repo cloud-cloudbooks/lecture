{
 "cells": [
  {
   "cell_type": "code",
   "execution_count": 1,
   "metadata": {},
   "outputs": [],
   "source": [
    "import tensorflow as tf\n",
    "import numpy as np"
   ]
  },
  {
   "cell_type": "code",
   "execution_count": 2,
   "metadata": {},
   "outputs": [],
   "source": [
    "english = [['I',' ','am',' ','a',' ','boy'], ['I',' ','am',' ','a',' ','girl'], ['How',' ','often',' ','do',' ','you',' ','eat',' ','per',' ','day','?'], ['You',' ','are',' ','so',' ','beautiful'], ['Would', ' ', 'you', ' ', 'mind', ' ', 'helping', ' ', 'me', ' ', 'out', '?'], ['deep', ' ', 'learning', ' ', 'is', ' ', 'really', ' ', 'funny', '.']]\n",
    "korean = [['나','는', ' ', '소년','이다', '.'], ['나','는', ' ', '소녀', '다', '.'], ['하루에', ' ', '얼마나', ' ', '자주', ' ', '드십니까','?'], ['당신','은', ' ', '너무', ' ', '아름답다', '.'], ['혹시', ' ', '도와', ' ', '주실', ' ', '수', ' ', '있나요', '?'], ['딥러닝', ' ', '진짜', ' ', '재밌네', '.']]\n",
    "seq_data = np.stack((english, korean), 1)"
   ]
  },
  {
   "cell_type": "code",
   "execution_count": 3,
   "metadata": {},
   "outputs": [],
   "source": [
    "char_arr = []\n",
    "for sents in seq_data:\n",
    "    for seq in sents:\n",
    "        char_arr += seq\n",
    "char_arr += ['<S>', '</S>', '<P>']\n",
    "char2num = {c:i for i, c in enumerate(set(char_arr))}\n",
    "num2char = {i:c for i, c in enumerate(char2num.keys())}\n",
    "dic_len = len(char2num)"
   ]
  },
  {
   "cell_type": "code",
   "execution_count": 4,
   "metadata": {},
   "outputs": [],
   "source": [
    "def get_max_length(seq_data):\n",
    "    max_len = 0\n",
    "    for seq in seq_data:\n",
    "        if max_len < len(seq):\n",
    "            max_len = len(seq)\n",
    "    return max_len"
   ]
  },
  {
   "cell_type": "code",
   "execution_count": 5,
   "metadata": {},
   "outputs": [],
   "source": [
    "def make_batch(seq_data, enc_max_len, dec_max_len):\n",
    "    input_batch = []\n",
    "    output_batch = []\n",
    "    target_batch = []\n",
    "    for i, seq in enumerate(seq_data):\n",
    "        input = []\n",
    "        output = []\n",
    "        target = []\n",
    "        for token in seq[0]:\n",
    "            input.append(char2num[token])\n",
    "        for _ in range(len(seq[0]), enc_max_len):\n",
    "            input.append(char2num['<P>'])\n",
    "        input_batch.append(np.eye(dic_len)[input])\n",
    "        output.append(char2num['<S>'])\n",
    "        for token in seq[1]:\n",
    "            output.append(char2num[token])\n",
    "            target.append(char2num[token])\n",
    "        target.append(char2num['</S>'])\n",
    "        for _ in range(len(seq[1]), dec_max_len):\n",
    "            output.append(char2num['</S>'])\n",
    "            target.append(char2num['</S>'])\n",
    "                \n",
    "        output_batch.append(np.eye(dic_len)[output])\n",
    "        target_batch.append(target)\n",
    "\n",
    "    return input_batch, output_batch, target_batch"
   ]
  },
  {
   "cell_type": "code",
   "execution_count": 91,
   "metadata": {},
   "outputs": [
    {
     "data": {
      "text/plain": [
       "14"
      ]
     },
     "execution_count": 91,
     "metadata": {},
     "output_type": "execute_result"
    }
   ],
   "source": [
    "len(input_batch[0])"
   ]
  },
  {
   "cell_type": "code",
   "execution_count": 139,
   "metadata": {},
   "outputs": [],
   "source": [
    "def get_seq_length(seq_data):\n",
    "    seq_len = []\n",
    "    for i, seq in enumerate(seq_data):\n",
    "        seq_len.append(len(seq))\n",
    "    return seq_len"
   ]
  },
  {
   "cell_type": "code",
   "execution_count": 141,
   "metadata": {},
   "outputs": [],
   "source": [
    "learning_rate = 1e-3\n",
    "n_hidden = 256\n",
    "n_enc_step = get_max_length(english)\n",
    "n_dec_step = get_max_length(korean)\n",
    "total_epoch = 100\n",
    "n_class = n_input = dic_len\n",
    "batch_size = len(english)"
   ]
  },
  {
   "cell_type": "code",
   "execution_count": 182,
   "metadata": {},
   "outputs": [],
   "source": [
    "tf.reset_default_graph()\n",
    "enc_input = tf.placeholder(tf.float32, [None, None, n_input])\n",
    "dec_input = tf.placeholder(tf.float32, [None, None, n_input])\n",
    "targets = tf.placeholder(tf.int64, [None, None])\n",
    "enc_seq_len = tf.placeholder(dtype=tf.int32, shape=[None])\n",
    "dec_seq_len = tf.placeholder(dtype=tf.int32, shape=[None])"
   ]
  },
  {
   "cell_type": "code",
   "execution_count": 183,
   "metadata": {},
   "outputs": [],
   "source": [
    "with tf.variable_scope('encode'):\n",
    "    enc_cell = tf.nn.rnn_cell.LSTMCell(n_hidden)\n",
    "    #enc_cell = tf.nn.rnn_cell.DropoutWrapper(enc_cell, output_keep_prob=0.5)\n",
    "    enc_outputs, enc_states = tf.nn.dynamic_rnn(enc_cell, enc_input, sequence_length=enc_seq_len, dtype=tf.float32)"
   ]
  },
  {
   "cell_type": "code",
   "execution_count": 184,
   "metadata": {},
   "outputs": [],
   "source": [
    "with tf.variable_scope('decode'):\n",
    "    dec_cell = tf.nn.rnn_cell.BasicLSTMCell(n_hidden)\n",
    "    #dec_cell = tf.nn.rnn_cell.DropoutWrapper(dec_cell, output_keep_prob=0.5)\n",
    "    outputs, dec_states = tf.nn.dynamic_rnn(dec_cell, dec_input, initial_state=enc_states, dtype=tf.float32)"
   ]
  },
  {
   "cell_type": "code",
   "execution_count": 185,
   "metadata": {},
   "outputs": [],
   "source": [
    "logits = tf.layers.dense(outputs, n_class, activation=None)"
   ]
  },
  {
   "cell_type": "code",
   "execution_count": 186,
   "metadata": {},
   "outputs": [],
   "source": [
    "cost = tf.reduce_mean(tf.contrib.seq2seq.sequence_loss(logits=logits, targets=targets, weights=tf.sequence_mask(dec_seq_len+1, n_dec_step+1, dtype=tf.float32)))\n",
    "predict = tf.argmax(logits, 2)"
   ]
  },
  {
   "cell_type": "code",
   "execution_count": 187,
   "metadata": {},
   "outputs": [],
   "source": [
    "optimizer = tf.train.AdamOptimizer(learning_rate).minimize(cost)"
   ]
  },
  {
   "cell_type": "code",
   "execution_count": 188,
   "metadata": {},
   "outputs": [
    {
     "name": "stdout",
     "output_type": "stream",
     "text": [
      "Epoch: 010 cost = 3.203902\n",
      "['          ', '          ', '          ', '          ', '          ', '          ']\n",
      "Epoch: 020 cost = 2.407439\n",
      "['      ', '      ', '         ?', '      .', '        ??', '        ??']\n",
      "Epoch: 030 cost = 1.901531\n",
      "['    ..', '    ..', '하루에       ', '    ..', '혹시      ', '      ']\n",
      "Epoch: 040 cost = 1.384020\n",
      "['나는  ..', '나는  ..', '하루에      ?', '나   ..', '하루에      ?', '딥러닝    .']\n",
      "Epoch: 050 cost = 0.923240\n",
      "['나는  이다.', '나는  다.', '하루에     드십니까??', '나    ..', '혹시       ??', '딥러닝   재밌네.']\n",
      "Epoch: 060 cost = 0.566001\n",
      "['나는 소년이다.', '나는 소녀다.', '하루에 얼마나 자주 드십니까?', '당신은   아름답다.', '혹시       있나요', '딥러닝 진짜 재밌네.']\n",
      "Epoch: 070 cost = 0.354515\n",
      "['나는 소년이다.', '나는 소녀다.', '하루에 얼마나 자주 드십니까?', '당신은 너무 아름답다.', '혹시 도와 주실 수 있나요?', '딥러닝 진짜 재밌네.']\n",
      "Epoch: 080 cost = 0.246302\n",
      "['나는 소년이다.', '나는 소녀다.', '하루에 얼마나 자주 드십니까?', '당신은 너무 아름답다.', '혹시 도와 주실 수 있나요?', '딥러닝 진짜 재밌네.']\n",
      "Epoch: 090 cost = 0.177702\n",
      "['나는 소년이다.', '나는 소녀다.', '하루에 얼마나 자주 드십니까?', '당신은 너무 아름답다.', '혹시 도와 주실 수 있나요?', '딥러닝 진짜 재밌네.']\n",
      "Epoch: 100 cost = 0.131842\n",
      "['나는 소년이다.', '나는 소녀다.', '하루에 얼마나 자주 드십니까?', '당신은 너무 아름답다.', '혹시 도와 주실 수 있나요?', '딥러닝 진짜 재밌네.']\n",
      "optimization finished!\n"
     ]
    }
   ],
   "source": [
    "sess = tf.Session()\n",
    "sess.run(tf.global_variables_initializer())\n",
    "\n",
    "input_batch, output_batch, target_batch = make_batch(seq_data, n_enc_step, n_dec_step)\n",
    "enc_seq_data = get_seq_length(english)\n",
    "dec_seq_data = get_seq_length(korean)\n",
    "\n",
    "for epoch in range(total_epoch):\n",
    "    _, loss = sess.run([optimizer, cost], feed_dict={enc_input: input_batch, dec_input: output_batch, targets: target_batch, enc_seq_len: enc_seq_data, dec_seq_len: dec_seq_data})\n",
    "    if epoch % 10 == 9:\n",
    "        result = sess.run(predict, feed_dict={enc_input: input_batch, dec_input: output_batch, targets: target_batch, enc_seq_len: enc_seq_data, dec_seq_len: dec_seq_data})\n",
    "        translation = []\n",
    "        for i in range(len(result)):\n",
    "            decoded = [num2char[j] for j in result[i]]\n",
    "            end = len(decoded)-1\n",
    "            if '</S>' in decoded:\n",
    "                end = decoded.index('</S>')\n",
    "            translated = ''.join(decoded[:end])\n",
    "            translation.append(translated)\n",
    "        print('Epoch:', '%03d' % (epoch+1), 'cost =', '{:.6f}'.format(loss))\n",
    "        print(translation)\n",
    "print('optimization finished!')"
   ]
  },
  {
   "cell_type": "code",
   "execution_count": 189,
   "metadata": {},
   "outputs": [],
   "source": [
    "def translate(english):\n",
    "    english = [english]\n",
    "    korean = [['<P>']*n_dec_step]\n",
    "    seq_data = [english + korean]\n",
    "    input_batch, output_batch, target_batch = make_batch(seq_data, n_enc_step, n_dec_step)\n",
    "    enc_seq_data = get_seq_length(english)\n",
    "    dec_seq_data = get_seq_length(korean)\n",
    "    result = sess.run(predict, feed_dict={enc_input: input_batch, dec_input: output_batch, targets: target_batch, enc_seq_len: enc_seq_data, dec_seq_len: dec_seq_data})\n",
    "    decoded = [num2char[j] for j in np.squeeze(result)]\n",
    "    end = len(decoded)-1\n",
    "    if '</S>' in decoded:\n",
    "        end = decoded.index('</S>')\n",
    "    translated = ''.join(decoded[:end])\n",
    "    return translated"
   ]
  },
  {
   "cell_type": "code",
   "execution_count": 190,
   "metadata": {},
   "outputs": [
    {
     "name": "stdout",
     "output_type": "stream",
     "text": [
      "I am a boy -> 나는 소년이다.\n",
      "I am a girl -> 나는 소녀다.\n",
      "How often do you eat per day? -> 하루에 얼마나 자주 드십니까?\n",
      "You are so beautiful -> 당신은 너무 아름답다.\n",
      "Would you mind helping me out? -> 혹시 도와 주실 수 있나요?\n",
      "deep learning is really funny. -> 딥러닝 진짜 재밌네.\n"
     ]
    }
   ],
   "source": [
    "for seq in english:\n",
    "    temp = ''\n",
    "    for token in seq:\n",
    "        temp += token\n",
    "    #print(temp)\n",
    "    print(temp, '->', translate(seq))"
   ]
  },
  {
   "cell_type": "code",
   "execution_count": 191,
   "metadata": {},
   "outputs": [],
   "source": [
    "enc_o, enc_s = sess.run([enc_outputs, enc_states], feed_dict={enc_input: input_batch, dec_input: output_batch, targets: target_batch, enc_seq_len: enc_seq_data})"
   ]
  },
  {
   "cell_type": "code",
   "execution_count": 195,
   "metadata": {},
   "outputs": [
    {
     "data": {
      "text/plain": [
       "[7, 7, 14, 7, 12, 10]"
      ]
     },
     "execution_count": 195,
     "metadata": {},
     "output_type": "execute_result"
    }
   ],
   "source": [
    "enc_seq_data"
   ]
  },
  {
   "cell_type": "code",
   "execution_count": 207,
   "metadata": {},
   "outputs": [
    {
     "data": {
      "text/plain": [
       "array([ 0.89235914, -0.32187885,  0.70764536, -0.6924491 , -0.62784433,\n",
       "       -0.4159763 , -0.08735646, -0.17925885, -0.3354003 ,  0.7369015 ,\n",
       "       -0.7324303 ,  0.5573446 , -0.7689758 ,  0.8550344 ,  0.11587184,\n",
       "       -0.05640771, -0.35995793,  0.82044053, -0.74162495,  0.35459253,\n",
       "        0.19846037, -0.7763018 ,  0.09897358, -0.8916741 , -0.09476326,\n",
       "        0.861     ,  0.9543    ,  0.7257154 , -0.66270214, -0.8883712 ,\n",
       "        0.8004339 , -0.77399313,  0.8433312 ,  0.3811655 ,  0.6864245 ,\n",
       "        0.4453732 ,  0.42977864,  0.36294028, -0.0755911 ,  0.44973874,\n",
       "        0.77413946,  0.8484586 , -0.5313067 ,  0.9462279 ,  0.7007505 ,\n",
       "        0.6538458 ,  0.71271807,  0.69227684, -0.2807276 , -0.59449214,\n",
       "       -0.78294915, -0.583728  , -0.81294143,  0.7152291 , -0.29830888,\n",
       "       -0.4126693 , -0.53478736, -0.64326245,  0.04832462, -0.8542474 ,\n",
       "        0.9163054 ,  0.4874523 , -0.7276936 ,  0.42895532,  0.92316407,\n",
       "        0.6102702 , -0.870138  , -0.60979754,  0.65634257,  0.3376958 ,\n",
       "       -0.8585085 , -0.6610374 , -0.09132317, -0.91980845, -0.07929035,\n",
       "        0.197515  , -0.2243282 , -0.7709811 , -0.62585574,  0.26780024,\n",
       "       -0.7256841 ,  0.9283206 ,  0.6640955 , -0.18581524, -0.56681556,\n",
       "       -0.46208337, -0.89181495,  0.39571404,  0.71959305, -0.71789765,\n",
       "       -0.547183  , -0.85331386,  0.69714403,  0.03989677,  0.34626874,\n",
       "       -0.89761925,  0.90008175,  0.74351734, -0.4044801 , -0.5724562 ,\n",
       "       -0.8908299 ,  0.8480271 ,  0.72126776, -0.2519082 ,  0.85765004,\n",
       "       -0.948396  ,  0.39508012,  0.7307738 ,  0.72734255,  0.81630826,\n",
       "        0.8300169 ,  0.55653054, -0.2371002 ,  0.86102325, -0.93646216,\n",
       "       -0.86383   ,  0.4024998 , -0.48514128, -0.09330736,  0.30053598,\n",
       "       -0.53544885,  0.6475998 ,  0.8950961 , -0.7828855 , -0.07320622,\n",
       "       -0.9353051 ,  0.78303754, -0.81415004,  0.9110239 ,  0.5870667 ,\n",
       "        0.591537  , -0.52727026,  0.6744789 , -0.86227167,  0.5553912 ,\n",
       "        0.2559944 , -0.67121464,  0.78020346,  0.30272672,  0.7687047 ,\n",
       "        0.66436017,  0.45155358, -0.05519893, -0.5726284 , -0.42991173,\n",
       "       -0.89236754, -0.24790873,  0.40157774,  0.28586906,  0.7560874 ,\n",
       "        0.62032044, -0.7143251 , -0.60938394, -0.11464544,  0.30289334,\n",
       "        0.25644976,  0.14456195,  0.89584714,  0.8924566 , -0.8564081 ,\n",
       "       -0.92875403, -0.6780782 ,  0.9526638 , -0.26649573,  0.73944867,\n",
       "        0.53529274,  0.10136322, -0.6613785 , -0.34282744,  0.1488223 ,\n",
       "        0.1361556 ,  0.75045437, -0.31095728,  0.254581  , -0.87354195,\n",
       "        0.6177818 ,  0.11156625, -0.6480761 ,  0.8117306 ,  0.76840216,\n",
       "       -0.3789087 , -0.3929526 , -0.82650805,  0.79997766, -0.12955287,\n",
       "       -0.52053714, -0.8143935 , -0.27448937, -0.59641105, -0.66102743,\n",
       "       -0.43646625,  0.81698686, -0.84283507, -0.01473755,  0.88605726,\n",
       "       -0.8227051 , -0.6149411 ,  0.8416138 , -0.93167573, -0.5282054 ,\n",
       "        0.801603  , -0.6523704 , -0.2507176 , -0.6618576 , -0.18780454,\n",
       "        0.15035325, -0.09824761, -0.17753367,  0.7195592 , -0.2931939 ,\n",
       "        0.9157694 ,  0.65428936, -0.7043576 ,  0.52976197, -0.824245  ,\n",
       "        0.35438612,  0.57299995,  0.9468237 ,  0.3850935 , -0.59344006,\n",
       "       -0.46313605, -0.7700366 , -0.2097535 , -0.2879219 , -0.35857275,\n",
       "        0.5979467 , -0.06419802,  0.7045006 ,  0.7585022 ,  0.18000966,\n",
       "       -0.5939996 ,  0.03922087, -0.9164508 , -0.82889307, -0.59086657,\n",
       "        0.9455593 ,  0.6746441 , -0.33543763,  0.3436499 ,  0.7146434 ,\n",
       "        0.75340706,  0.76174206, -0.5288625 ,  0.83832645,  0.45691255,\n",
       "        0.85093665, -0.44385365, -0.89986193,  0.16161227, -0.8305461 ,\n",
       "       -0.5082629 ,  0.20291993,  0.78874385,  0.8609565 ,  0.2844321 ,\n",
       "       -0.5525326 ], dtype=float32)"
      ]
     },
     "execution_count": 207,
     "metadata": {},
     "output_type": "execute_result"
    }
   ],
   "source": [
    "enc_o[0][6]"
   ]
  },
  {
   "cell_type": "code",
   "execution_count": 210,
   "metadata": {},
   "outputs": [
    {
     "data": {
      "text/plain": [
       "array([ 0.89235914, -0.32187885,  0.70764536, -0.6924491 , -0.62784433,\n",
       "       -0.4159763 , -0.08735646, -0.17925885, -0.3354003 ,  0.7369015 ,\n",
       "       -0.7324303 ,  0.5573446 , -0.7689758 ,  0.8550344 ,  0.11587184,\n",
       "       -0.05640771, -0.35995793,  0.82044053, -0.74162495,  0.35459253,\n",
       "        0.19846037, -0.7763018 ,  0.09897358, -0.8916741 , -0.09476326,\n",
       "        0.861     ,  0.9543    ,  0.7257154 , -0.66270214, -0.8883712 ,\n",
       "        0.8004339 , -0.77399313,  0.8433312 ,  0.3811655 ,  0.6864245 ,\n",
       "        0.4453732 ,  0.42977864,  0.36294028, -0.0755911 ,  0.44973874,\n",
       "        0.77413946,  0.8484586 , -0.5313067 ,  0.9462279 ,  0.7007505 ,\n",
       "        0.6538458 ,  0.71271807,  0.69227684, -0.2807276 , -0.59449214,\n",
       "       -0.78294915, -0.583728  , -0.81294143,  0.7152291 , -0.29830888,\n",
       "       -0.4126693 , -0.53478736, -0.64326245,  0.04832462, -0.8542474 ,\n",
       "        0.9163054 ,  0.4874523 , -0.7276936 ,  0.42895532,  0.92316407,\n",
       "        0.6102702 , -0.870138  , -0.60979754,  0.65634257,  0.3376958 ,\n",
       "       -0.8585085 , -0.6610374 , -0.09132317, -0.91980845, -0.07929035,\n",
       "        0.197515  , -0.2243282 , -0.7709811 , -0.62585574,  0.26780024,\n",
       "       -0.7256841 ,  0.9283206 ,  0.6640955 , -0.18581524, -0.56681556,\n",
       "       -0.46208337, -0.89181495,  0.39571404,  0.71959305, -0.71789765,\n",
       "       -0.547183  , -0.85331386,  0.69714403,  0.03989677,  0.34626874,\n",
       "       -0.89761925,  0.90008175,  0.74351734, -0.4044801 , -0.5724562 ,\n",
       "       -0.8908299 ,  0.8480271 ,  0.72126776, -0.2519082 ,  0.85765004,\n",
       "       -0.948396  ,  0.39508012,  0.7307738 ,  0.72734255,  0.81630826,\n",
       "        0.8300169 ,  0.55653054, -0.2371002 ,  0.86102325, -0.93646216,\n",
       "       -0.86383   ,  0.4024998 , -0.48514128, -0.09330736,  0.30053598,\n",
       "       -0.53544885,  0.6475998 ,  0.8950961 , -0.7828855 , -0.07320622,\n",
       "       -0.9353051 ,  0.78303754, -0.81415004,  0.9110239 ,  0.5870667 ,\n",
       "        0.591537  , -0.52727026,  0.6744789 , -0.86227167,  0.5553912 ,\n",
       "        0.2559944 , -0.67121464,  0.78020346,  0.30272672,  0.7687047 ,\n",
       "        0.66436017,  0.45155358, -0.05519893, -0.5726284 , -0.42991173,\n",
       "       -0.89236754, -0.24790873,  0.40157774,  0.28586906,  0.7560874 ,\n",
       "        0.62032044, -0.7143251 , -0.60938394, -0.11464544,  0.30289334,\n",
       "        0.25644976,  0.14456195,  0.89584714,  0.8924566 , -0.8564081 ,\n",
       "       -0.92875403, -0.6780782 ,  0.9526638 , -0.26649573,  0.73944867,\n",
       "        0.53529274,  0.10136322, -0.6613785 , -0.34282744,  0.1488223 ,\n",
       "        0.1361556 ,  0.75045437, -0.31095728,  0.254581  , -0.87354195,\n",
       "        0.6177818 ,  0.11156625, -0.6480761 ,  0.8117306 ,  0.76840216,\n",
       "       -0.3789087 , -0.3929526 , -0.82650805,  0.79997766, -0.12955287,\n",
       "       -0.52053714, -0.8143935 , -0.27448937, -0.59641105, -0.66102743,\n",
       "       -0.43646625,  0.81698686, -0.84283507, -0.01473755,  0.88605726,\n",
       "       -0.8227051 , -0.6149411 ,  0.8416138 , -0.93167573, -0.5282054 ,\n",
       "        0.801603  , -0.6523704 , -0.2507176 , -0.6618576 , -0.18780454,\n",
       "        0.15035325, -0.09824761, -0.17753367,  0.7195592 , -0.2931939 ,\n",
       "        0.9157694 ,  0.65428936, -0.7043576 ,  0.52976197, -0.824245  ,\n",
       "        0.35438612,  0.57299995,  0.9468237 ,  0.3850935 , -0.59344006,\n",
       "       -0.46313605, -0.7700366 , -0.2097535 , -0.2879219 , -0.35857275,\n",
       "        0.5979467 , -0.06419802,  0.7045006 ,  0.7585022 ,  0.18000966,\n",
       "       -0.5939996 ,  0.03922087, -0.9164508 , -0.82889307, -0.59086657,\n",
       "        0.9455593 ,  0.6746441 , -0.33543763,  0.3436499 ,  0.7146434 ,\n",
       "        0.75340706,  0.76174206, -0.5288625 ,  0.83832645,  0.45691255,\n",
       "        0.85093665, -0.44385365, -0.89986193,  0.16161227, -0.8305461 ,\n",
       "       -0.5082629 ,  0.20291993,  0.78874385,  0.8609565 ,  0.2844321 ,\n",
       "       -0.5525326 ], dtype=float32)"
      ]
     },
     "execution_count": 210,
     "metadata": {},
     "output_type": "execute_result"
    }
   ],
   "source": [
    "enc_s.h[0]"
   ]
  }
 ],
 "metadata": {
  "kernelspec": {
   "display_name": "Python tensor",
   "language": "python",
   "name": "myenv"
  },
  "language_info": {
   "codemirror_mode": {
    "name": "ipython",
    "version": 3
   },
   "file_extension": ".py",
   "mimetype": "text/x-python",
   "name": "python",
   "nbconvert_exporter": "python",
   "pygments_lexer": "ipython3",
   "version": "3.6.4"
  }
 },
 "nbformat": 4,
 "nbformat_minor": 2
}
