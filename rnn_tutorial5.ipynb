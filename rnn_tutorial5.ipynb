{
 "cells": [
  {
   "cell_type": "code",
   "execution_count": 37,
   "metadata": {},
   "outputs": [],
   "source": [
    "import tensorflow as tf\n",
    "import numpy as np\n",
    "import pandas as pd\n",
    "import gensim"
   ]
  },
  {
   "cell_type": "code",
   "execution_count": 38,
   "metadata": {},
   "outputs": [],
   "source": [
    "train = pd.read_csv('ratings_train.txt', delimiter='\\t')\n",
    "test = pd.read_csv('ratings_test.txt', delimiter='\\t')\n",
    "y_train = train.label.values\n",
    "y_test = test.label.values"
   ]
  },
  {
   "cell_type": "code",
   "execution_count": 39,
   "metadata": {},
   "outputs": [],
   "source": [
    "model = gensim.models.Word2Vec.load('./vectors.bin')"
   ]
  },
  {
   "cell_type": "code",
   "execution_count": 40,
   "metadata": {},
   "outputs": [
    {
     "data": {
      "text/plain": [
       "34371"
      ]
     },
     "execution_count": 40,
     "metadata": {},
     "output_type": "execute_result"
    }
   ],
   "source": [
    "len(model.wv.vocab)"
   ]
  },
  {
   "cell_type": "code",
   "execution_count": 41,
   "metadata": {},
   "outputs": [],
   "source": [
    "train_sents = np.load('train_sents.npy')\n",
    "train_segs = np.load('train_segs.npy')\n",
    "test_sents = np.load('test_sents.npy')\n",
    "test_segs = np.load('test_segs.npy')"
   ]
  },
  {
   "cell_type": "code",
   "execution_count": 42,
   "metadata": {},
   "outputs": [],
   "source": [
    "def get_max_length(seq_data):\n",
    "    max_len = 0\n",
    "    for sent in seq_data:\n",
    "        if max_len < len(sent):\n",
    "            max_len = len(sent)\n",
    "    return(max_len)"
   ]
  },
  {
   "cell_type": "code",
   "execution_count": 43,
   "metadata": {},
   "outputs": [],
   "source": [
    "#max_len = get_max_length(train_segs)\n",
    "max_len = 10"
   ]
  },
  {
   "cell_type": "code",
   "execution_count": 44,
   "metadata": {},
   "outputs": [],
   "source": [
    "word = []\n",
    "for sent in train_segs:\n",
    "    for seg in sent:\n",
    "        word.append(seg)"
   ]
  },
  {
   "cell_type": "code",
   "execution_count": 45,
   "metadata": {},
   "outputs": [],
   "source": [
    "word2num = {w:(i+1) for i,w in enumerate(set(word))}\n",
    "num2word = {(i+1):w for i,w in enumerate(set(word))}"
   ]
  },
  {
   "cell_type": "code",
   "execution_count": 46,
   "metadata": {},
   "outputs": [],
   "source": [
    "embedding_vector = [np.zeros(shape=300)]\n",
    "for i, w in enumerate(word2num.keys()):\n",
    "    if w not in model.wv.vocab:\n",
    "        embedding_vector += [np.random.normal(size=300)]\n",
    "    else:\n",
    "        embedding_vector += [model.wv[w]]"
   ]
  },
  {
   "cell_type": "code",
   "execution_count": 47,
   "metadata": {},
   "outputs": [],
   "source": [
    "word2num['<UNK>'] = 0\n",
    "num2word[0] = '<UNK>'"
   ]
  },
  {
   "cell_type": "code",
   "execution_count": 48,
   "metadata": {},
   "outputs": [],
   "source": [
    "def sent2index(segs):\n",
    "    idx = []\n",
    "    for sent in segs:\n",
    "        temp = []\n",
    "        for seg in sent:\n",
    "            if seg not in word2num.keys():\n",
    "                seg = '<UNK>'\n",
    "            temp.append(word2num[seg])\n",
    "        idx.append(temp)\n",
    "    return idx"
   ]
  },
  {
   "cell_type": "code",
   "execution_count": 49,
   "metadata": {},
   "outputs": [],
   "source": [
    "train_idx = sent2index(train_segs)\n",
    "test_idx = sent2index(test_segs)"
   ]
  },
  {
   "cell_type": "code",
   "execution_count": 50,
   "metadata": {},
   "outputs": [],
   "source": [
    "def get_seq_length(seq_data, max_len):\n",
    "    seq_len = []\n",
    "    for seq in seq_data:\n",
    "        if max_len <= len(seq):\n",
    "            seq_len.append(max_len)\n",
    "        else:\n",
    "            seq_len.append(len(seq))\n",
    "    return seq_len"
   ]
  },
  {
   "cell_type": "code",
   "execution_count": 51,
   "metadata": {},
   "outputs": [],
   "source": [
    "seq_length_ = get_seq_length(train_segs, max_len)"
   ]
  },
  {
   "cell_type": "code",
   "execution_count": 52,
   "metadata": {},
   "outputs": [],
   "source": [
    "def give_zero_padding(seq_data, max_len):\n",
    "    seq_ = []\n",
    "    for seq in seq_data:\n",
    "        temp = seq\n",
    "        if len(temp) > max_len:\n",
    "            temp = seq[:max_len]\n",
    "        for _ in range(len(temp), max_len):\n",
    "            temp.append(0)\n",
    "        seq_.append(temp)\n",
    "    return seq_"
   ]
  },
  {
   "cell_type": "code",
   "execution_count": 53,
   "metadata": {},
   "outputs": [],
   "source": [
    "train_idx = give_zero_padding(train_idx, max_len)\n",
    "test_idx = give_zero_padding(test_idx, max_len)"
   ]
  },
  {
   "cell_type": "code",
   "execution_count": 54,
   "metadata": {},
   "outputs": [
    {
     "data": {
      "text/plain": [
       "[13349, 11962, 4689, 37693, 2073, 33189, 31952, 1913, 0, 0]"
      ]
     },
     "execution_count": 54,
     "metadata": {},
     "output_type": "execute_result"
    }
   ],
   "source": [
    "train_idx[0]"
   ]
  },
  {
   "cell_type": "code",
   "execution_count": 55,
   "metadata": {},
   "outputs": [],
   "source": [
    "learning_rate = 0.001\n",
    "n_hidden = 128\n",
    "n_epoch = 5\n",
    "n_embedding = 300\n",
    "n_step = max_len\n",
    "n_input = 300\n",
    "n_vocab = len(word2num)\n",
    "batch_size = 64\n",
    "n_output = 2"
   ]
  },
  {
   "cell_type": "code",
   "execution_count": 56,
   "metadata": {},
   "outputs": [],
   "source": [
    "tf.reset_default_graph()\n",
    "X = tf.placeholder(dtype=tf.int32, shape=[None, n_step])\n",
    "Y = tf.placeholder(dtype=tf.int32, shape=[None])\n",
    "W = tf.Variable(tf.constant(0.0, shape=[n_vocab, n_embedding]), trainable=True)\n",
    "embedding_placeholder = tf.placeholder(tf.float32, [n_vocab, n_embedding])\n",
    "embedding_init = W.assign(embedding_placeholder)\n",
    "seq_len = tf.placeholder(dtype=tf.int32, shape=[None])\n",
    "inputs = tf.nn.embedding_lookup(W, X)"
   ]
  },
  {
   "cell_type": "code",
   "execution_count": 57,
   "metadata": {},
   "outputs": [],
   "source": [
    "W_ = tf.Variable(tf.truncated_normal([n_hidden, n_output]))\n",
    "b = tf.Variable(tf.truncated_normal([n_output]))"
   ]
  },
  {
   "cell_type": "code",
   "execution_count": 58,
   "metadata": {},
   "outputs": [],
   "source": [
    "cell = tf.nn.rnn_cell.GRUCell(n_hidden)\n",
    "#cell = tf.nn.rnn_cell.DropoutWrapper(cell, output_keep_prob=0.5)"
   ]
  },
  {
   "cell_type": "code",
   "execution_count": 59,
   "metadata": {},
   "outputs": [],
   "source": [
    "outputs, states = tf.nn.dynamic_rnn(cell, inputs, sequence_length=seq_len, dtype=tf.float32)\n",
    "#outputs: TensorShape([batch_size, time_steps, hidden_size])"
   ]
  },
  {
   "cell_type": "code",
   "execution_count": 28,
   "metadata": {},
   "outputs": [],
   "source": [
    "#idx = tf.range(tf.shape(outputs)[0])*tf.shape(outputs)[1] + (seq_len - 1)\n",
    "#idx = tf.cast(tf.reduce_sum(tf.one_hot(idx, tf.shape(outputs)[0]*tf.shape(outputs)[1]), 0), tf.int32)\n",
    "#outputs = tf.dynamic_partition(tf.reshape(outputs, [-1, n_hidden]), idx, 2)\n",
    "#last_outputs = outputs[1]"
   ]
  },
  {
   "cell_type": "code",
   "execution_count": 60,
   "metadata": {},
   "outputs": [],
   "source": [
    "logits = tf.matmul(states, W_) + b\n",
    "preds = tf.cast(tf.argmax(logits, 1), tf.int32)\n",
    "correct = tf.equal(preds, Y)\n",
    "accuracy = tf.reduce_mean(tf.cast(correct, tf.float32))"
   ]
  },
  {
   "cell_type": "code",
   "execution_count": 61,
   "metadata": {},
   "outputs": [],
   "source": [
    "cost = tf.reduce_mean(tf.nn.sparse_softmax_cross_entropy_with_logits(logits=logits, labels=Y))"
   ]
  },
  {
   "cell_type": "code",
   "execution_count": 62,
   "metadata": {},
   "outputs": [],
   "source": [
    "optimizer = tf.train.AdamOptimizer(learning_rate).minimize(cost)"
   ]
  },
  {
   "cell_type": "code",
   "execution_count": 63,
   "metadata": {},
   "outputs": [
    {
     "name": "stdout",
     "output_type": "stream",
     "text": [
      "< epoch : 1 >\n",
      "0500 Cost:  0.619\n",
      "1000 Cost:  0.474\n",
      "1500 Cost:  0.441\n",
      "2000 Cost:  0.427\n",
      "< epoch : 2 >\n",
      "0500 Cost:  0.358\n",
      "1000 Cost:  0.323\n",
      "1500 Cost:  0.320\n",
      "2000 Cost:  0.303\n",
      "< epoch : 3 >\n",
      "0500 Cost:  0.256\n",
      "1000 Cost:  0.215\n",
      "1500 Cost:  0.213\n",
      "2000 Cost:  0.191\n",
      "< epoch : 4 >\n",
      "0500 Cost:  0.160\n",
      "1000 Cost:  0.136\n",
      "1500 Cost:  0.139\n",
      "2000 Cost:  0.121\n",
      "< epoch : 5 >\n",
      "0500 Cost:  0.103\n",
      "1000 Cost:  0.093\n",
      "1500 Cost:  0.098\n",
      "2000 Cost:  0.081\n"
     ]
    }
   ],
   "source": [
    "sess = tf.Session()\n",
    "sess.run(tf.global_variables_initializer())\n",
    "sess.run(embedding_init, feed_dict={embedding_placeholder: embedding_vector})\n",
    "total_batch = int(len(train_idx) / batch_size)\n",
    "\n",
    "for epoch in range(n_epoch):\n",
    "    cost_avg = 0\n",
    "    print('< epoch :', (epoch+1), '>')\n",
    "    for i in range(total_batch):\n",
    "        if i == (total_batch-1):\n",
    "            batch_xs = train_idx[(i*batch_size):len(train_idx)]\n",
    "            batch_ys = y_train[(i*batch_size):len(train_idx)]\n",
    "            seq_length_data = get_seq_length(train_segs[(i*batch_size):len(train_idx)], max_len)\n",
    "        else:\n",
    "            batch_xs = train_idx[i*batch_size:(i+1)*batch_size]\n",
    "            batch_ys = y_train[i*batch_size:(i+1)*batch_size]\n",
    "            seq_length_data = get_seq_length(train_segs[(i*batch_size):(i+1)*batch_size], max_len)\n",
    "        cost_val, _ = sess.run([cost, optimizer], feed_dict={X: batch_xs, Y: batch_ys, seq_len: seq_length_data})\n",
    "        cost_avg += cost_val\n",
    "        if i % 500 == 499:\n",
    "            print('%04d' % (i+1), 'Cost: ', '{:.3f}'.format(cost_avg/500))\n",
    "            cost_avg = 0"
   ]
  },
  {
   "cell_type": "code",
   "execution_count": 64,
   "metadata": {},
   "outputs": [
    {
     "name": "stdout",
     "output_type": "stream",
     "text": [
      "Accuracy:  0.791\n"
     ]
    }
   ],
   "source": [
    "test_batch = int(len(test_idx) / batch_size)\n",
    "test_acc = 0\n",
    "\n",
    "for i in range(test_batch):\n",
    "    if i == (test_batch-1):\n",
    "        batch_xs = test_idx[(i*batch_size):len(test_idx)]\n",
    "        batch_ys = y_test[(i*batch_size):len(test_idx)]\n",
    "        seq_length_data = get_seq_length(test_segs[(i*batch_size):len(test_idx)], max_len)\n",
    "    else:\n",
    "        batch_xs = test_idx[i*batch_size:(i+1)*batch_size]\n",
    "        batch_ys = y_test[i*batch_size:(i+1)*batch_size]\n",
    "        seq_length_data = get_seq_length(test_segs[(i*batch_size):(i+1)*batch_size], max_len)\n",
    "    acc = sess.run(accuracy, feed_dict={X: batch_xs, Y: batch_ys, seq_len: seq_length_data})\n",
    "    test_acc += acc\n",
    "print('Accuracy: ', '{:.3f}'.format(test_acc/test_batch))"
   ]
  }
 ],
 "metadata": {
  "kernelspec": {
   "display_name": "Python tensor",
   "language": "python",
   "name": "myenv"
  },
  "language_info": {
   "codemirror_mode": {
    "name": "ipython",
    "version": 3
   },
   "file_extension": ".py",
   "mimetype": "text/x-python",
   "name": "python",
   "nbconvert_exporter": "python",
   "pygments_lexer": "ipython3",
   "version": "3.6.4"
  }
 },
 "nbformat": 4,
 "nbformat_minor": 2
}
